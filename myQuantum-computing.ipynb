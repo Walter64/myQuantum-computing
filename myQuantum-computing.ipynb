{
 "cells": [
  {
   "cell_type": "markdown",
   "id": "55e346f7-6197-4b68-b22e-418bcf540f25",
   "metadata": {},
   "source": [
    "# Quantum Computing Tests"
   ]
  },
  {
   "cell_type": "code",
   "execution_count": 2,
   "id": "568dbef4-6e24-40b6-b4b6-75330f076cd3",
   "metadata": {},
   "outputs": [],
   "source": [
    "import numpy"
   ]
  },
  {
   "cell_type": "code",
   "execution_count": 3,
   "id": "f5780bdb-5c90-4ff4-88e5-1fe224b2c747",
   "metadata": {},
   "outputs": [],
   "source": [
    "import qiskit"
   ]
  },
  {
   "cell_type": "code",
   "execution_count": 4,
   "id": "06090452-1b7e-4388-a007-f8ba244b32ff",
   "metadata": {},
   "outputs": [
    {
     "data": {
      "text/plain": [
       "<module 'qiskit.circuit' from '/opt/conda/lib/python3.9/site-packages/qiskit/circuit/__init__.py'>"
      ]
     },
     "execution_count": 4,
     "metadata": {},
     "output_type": "execute_result"
    }
   ],
   "source": [
    "qiskit.circuit"
   ]
  },
  {
   "cell_type": "code",
   "execution_count": 1,
   "id": "01fbc353-413c-405e-b919-12a64a3f203e",
   "metadata": {},
   "outputs": [
    {
     "data": {
      "text/plain": [
       "4"
      ]
     },
     "execution_count": 1,
     "metadata": {},
     "output_type": "execute_result"
    }
   ],
   "source": [
    "i = 4\n",
    "i"
   ]
  },
  {
   "cell_type": "code",
   "execution_count": null,
   "id": "7290d3ba-330c-494b-94d7-8359e5795739",
   "metadata": {},
   "outputs": [],
   "source": []
  },
  {
   "cell_type": "code",
   "execution_count": null,
   "id": "4078c1a3-6d3b-46ed-b373-63f873aeafd6",
   "metadata": {},
   "outputs": [],
   "source": []
  },
  {
   "cell_type": "code",
   "execution_count": null,
   "id": "d19e9ef1-da0b-4d5c-b9cb-6d0f9ca92d2a",
   "metadata": {},
   "outputs": [],
   "source": []
  },
  {
   "cell_type": "code",
   "execution_count": null,
   "id": "78183fc1-cc10-4295-860f-b246ced69616",
   "metadata": {},
   "outputs": [],
   "source": []
  },
  {
   "cell_type": "code",
   "execution_count": null,
   "id": "bb517d37-7466-4be2-972b-b0d158a278f9",
   "metadata": {},
   "outputs": [],
   "source": []
  },
  {
   "cell_type": "code",
   "execution_count": null,
   "id": "96fa3f5a-daf2-4de9-97ea-1525957549b6",
   "metadata": {},
   "outputs": [],
   "source": []
  },
  {
   "cell_type": "code",
   "execution_count": null,
   "id": "ba6912cf-16c4-42b2-bb54-e2444f37e913",
   "metadata": {},
   "outputs": [],
   "source": []
  },
  {
   "cell_type": "code",
   "execution_count": null,
   "id": "97c00ad4-5807-47d9-90ee-64d89f845613",
   "metadata": {},
   "outputs": [],
   "source": []
  },
  {
   "cell_type": "code",
   "execution_count": null,
   "id": "90322f6b-2385-44c3-9ba9-93850e3744d0",
   "metadata": {},
   "outputs": [],
   "source": []
  },
  {
   "cell_type": "code",
   "execution_count": null,
   "id": "b86881d6-98bd-44bd-8a51-2e4dc8d8e5cb",
   "metadata": {},
   "outputs": [],
   "source": []
  }
 ],
 "metadata": {
  "kernelspec": {
   "display_name": "Python 3 (ipykernel)",
   "language": "python",
   "name": "python3"
  },
  "language_info": {
   "codemirror_mode": {
    "name": "ipython",
    "version": 3
   },
   "file_extension": ".py",
   "mimetype": "text/x-python",
   "name": "python",
   "nbconvert_exporter": "python",
   "pygments_lexer": "ipython3",
   "version": "3.9.7"
  }
 },
 "nbformat": 4,
 "nbformat_minor": 5
}
